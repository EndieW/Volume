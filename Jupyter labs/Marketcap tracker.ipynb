{
 "cells": [
  {
   "cell_type": "markdown",
   "metadata": {},
   "source": [
    "# Market Cap Tracker"
   ]
  },
  {
   "cell_type": "markdown",
   "metadata": {},
   "source": [
    "Using Crypto compare api"
   ]
  },
  {
   "cell_type": "code",
   "execution_count": 10,
   "metadata": {},
   "outputs": [],
   "source": [
    "import requests,json,datetime,time,random, math\n",
    "import numpy as np\n",
    "import pandas as pd\n",
    "import matplotlib.pyplot as plt\n",
    "%matplotlib inline\n",
    "from urllib.parse import urljoin, urlencode\n",
    "import csv"
   ]
  },
  {
   "cell_type": "markdown",
   "metadata": {},
   "source": [
    "# Path\n",
    "1) collect volume data\n",
    "\n",
    "2) process volume data\n",
    "\n",
    "3) create DF with volume data\n",
    "\n",
    "4) collect new data\n",
    "\n",
    "5) process data[i]\n",
    "\n",
    "6) add new data to previous DF\n",
    "\n",
    "7) do till 5 sets of data"
   ]
  },
  {
   "cell_type": "code",
   "execution_count": 11,
   "metadata": {},
   "outputs": [
    {
     "data": {
      "text/plain": [
       "Timestamp('2020-08-13 14:35:33.760113')"
      ]
     },
     "execution_count": 11,
     "metadata": {},
     "output_type": "execute_result"
    }
   ],
   "source": [
    "pd.Timestamp.now()"
   ]
  },
  {
   "cell_type": "code",
   "execution_count": 12,
   "metadata": {},
   "outputs": [],
   "source": [
    "counter = 0 \n",
    "def firstData(df):\n",
    "    returndf = df.copy()\n",
    "    name = 'VOLUME24HOURTO-%s' % (str(pd.Timestamp.now())[16:18])\n",
    "    url = 'https://min-api.cryptocompare.com/data/top/volumes?tsym=BTC&limit=1000'\n",
    "    output = requests.get(url)\n",
    "    content = json.loads(output.content.decode('utf-8'))\n",
    "    df = pd.DataFrame(content['Data'])\n",
    "    df = df.set_index('SYMBOL')\n",
    "    df[name] = df['VOLUME24HOURTO']\n",
    "    returndf.join(df[name])\n",
    "    return returndf"
   ]
  },
  {
   "cell_type": "code",
   "execution_count": 13,
   "metadata": {},
   "outputs": [],
   "source": [
    "def secondData(df):\n",
    "    df = df.copy()\n",
    "    url = 'https://min-api.cryptocompare.com/data/top/volumes?tsym=BTC&limit=1000'\n",
    "    output = requests.get(url)\n",
    "    content = json.loads(output.content.decode('utf-8'))\n",
    "    df2 = pd.DataFrame(content['Data'])\n",
    "    df2 = df2.set_index('SYMBOL')\n",
    "    df['VOLUME24HOURTO-2'] = df2['VOLUME24HOURTO']\n",
    "    return df"
   ]
  },
  {
   "cell_type": "code",
   "execution_count": 14,
   "metadata": {},
   "outputs": [],
   "source": [
    "url = 'https://min-api.cryptocompare.com/data/top/volumes?tsym=BTC&limit=1000'\n",
    "output = requests.get(url)\n",
    "content = json.loads(output.content.decode('utf-8'))\n",
    "df = pd.DataFrame(content['Data'])\n",
    "df = df.set_index('SYMBOL')"
   ]
  }
 ],
 "metadata": {
  "kernelspec": {
   "display_name": "Python 3",
   "language": "python",
   "name": "python3"
  },
  "language_info": {
   "codemirror_mode": {
    "name": "ipython",
    "version": 3
   },
   "file_extension": ".py",
   "mimetype": "text/x-python",
   "name": "python",
   "nbconvert_exporter": "python",
   "pygments_lexer": "ipython3",
   "version": "3.7.6"
  }
 },
 "nbformat": 4,
 "nbformat_minor": 4
}
