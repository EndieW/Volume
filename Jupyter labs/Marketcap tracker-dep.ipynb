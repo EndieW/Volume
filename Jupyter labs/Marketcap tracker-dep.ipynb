{
 "cells": [
  {
   "cell_type": "markdown",
   "metadata": {},
   "source": [
    "# Market Cap Tracker"
   ]
  },
  {
   "cell_type": "markdown",
   "metadata": {},
   "source": [
    "Using Crypto compare api"
   ]
  },
  {
   "cell_type": "code",
   "execution_count": null,
   "metadata": {},
   "outputs": [],
   "source": [
    "import requests,json,datetime,time,random, math\n",
    "import numpy as np\n",
    "import pandas as pd\n",
    "import matplotlib.pyplot as plt\n",
    "%matplotlib inline\n",
    "from urllib.parse import urljoin, urlencode\n",
    "import csv\n",
    "import threading\n"
   ]
  },
  {
   "cell_type": "markdown",
   "metadata": {},
   "source": [
    "# Path\n",
    "1) collect volume data\n",
    "\n",
    "2) process volume data\n",
    "\n",
    "3) create DF with volume data\n",
    "\n",
    "4) collect new data\n",
    "\n",
    "5) process data[i]\n",
    "\n",
    "6) add new data to previous DF\n",
    "\n",
    "7) do till 5 sets of data"
   ]
  },
  {
   "cell_type": "code",
   "execution_count": null,
   "metadata": {},
   "outputs": [],
   "source": [
    "def init():\n",
    "    name = 'VOLUME24HOURTO-%s' % (str(pd.Timestamp.now())[17:19])\n",
    "    url = 'https://min-api.cryptocompare.com/data/top/volumes?tsym=BTC&limit=1000'\n",
    "    output = requests.get(url)\n",
    "    content = json.loads(output.content.decode('utf-8'))\n",
    "    df = pd.DataFrame(content['Data'])\n",
    "    df['SYMBOL'] = df['SYMBOL'].str.lower() # added for merging later\n",
    "    df = df.set_index('SYMBOL')\n",
    "    df['mean'] = 0\n",
    "    df[name] = df['VOLUME24HOURTO']\n",
    "    del df['SUPPLY'],df['VOLUME24HOURTO'],df['ID']\n",
    "    return df"
   ]
  },
  {
   "cell_type": "code",
   "execution_count": null,
   "metadata": {},
   "outputs": [],
   "source": [
    "def loop(df):\n",
    "    firstDF = df.copy() #copy previous DF for appending data\n",
    "    name = 'VOLUME24HOURTO-%s'\n",
    "    url = 'https://min-api.cryptocompare.com/data/top/volumes?tsym=BTC&limit=1000'\n",
    "    output = requests.get(url)\n",
    "    content = json.loads(output.content.decode('utf-8'))\n",
    "    df = pd.DataFrame(content['Data'])\n",
    "    #set index to symbol\n",
    "    df = df.set_index('SYMBOL')\n",
    "    #change to variable name\n",
    "    df[name] = df['VOLUME24HOURTO']\n",
    "    #clean up list before join\n",
    "    del df['FULLNAME'],df['NAME'],df['ID'],df['VOLUME24HOURTO'],df['SUPPLY']\n",
    "    firstDF = firstDF.join(df)\n",
    "    #drop tables when exceeding 27\n",
    "    if firstDF.shape[1] > 27:\n",
    "        firstDF = firstDF.drop(firstDF.columns[3],axis=1)\n",
    "    #calculate mean\n",
    "    x = firstDF.shape[1]\n",
    "    meanRow = firstDF.iloc[:,3:x]\n",
    "    firstDF['mean'] = meanRow.mean(axis=1)\n",
    "    return firstDF"
   ]
  },
  {
   "cell_type": "code",
   "execution_count": null,
   "metadata": {},
   "outputs": [],
   "source": [
    "def get_all(df):\n",
    "    # Can be looped hourly, misses 'Mean' column and calculations\n",
    "    return_df = df.copy()\n",
    "    all_df = pd.DataFrame()   \n",
    "    \n",
    "    for x in range (1,5): # change if you want to get more or less then 1000 results, steps in 250\n",
    "        # get data\n",
    "        raw_data = requests.get('https://api.coingecko.com/api/v3/coins/markets?vs_currency=btc&order=market_cap_desc&per_page=250&page={0}&sparkline=false&price_change_percentage=1h%2C24h%2C7d'.format(x))\n",
    "        json_data = json.loads(raw_data.content)\n",
    "        df_data = pd.DataFrame(json_data)\n",
    "        all_df = all_df.append(df_data)\n",
    "\n",
    "    # copy relevant data into readable df\n",
    "    columns_list = ['Index', 'Name', 'Rank', 'Market_Cap', 'Price', 'Daily_Perf', 'Volume']\n",
    "    return_df = pd.DataFrame(columns=columns_list)\n",
    "    return_df['Index'] = all_df['symbol']\n",
    "    return_df['Name'] = all_df['name']\n",
    "    return_df['Rank'] = all_df['market_cap_rank']\n",
    "    return_df['Market_Cap'] = all_df['market_cap']\n",
    "    return_df['Price'] = all_df['current_price']\n",
    "    return_df['Daily_Perf'] = all_df['price_change_24h']\n",
    "    return_df['Volume'] = all_df['total_volume']\n",
    "                \n",
    "    # log volume and price\n",
    "    vol_col_name = 'log_vol24h_%s' % (str(pd.Timestamp.now())[11:13])\n",
    "    pri_col_name = 'log_pri24h_%s' % (str(pd.Timestamp.now())[11:13])\n",
    "    return_df[vol_col_name] = return_df['Volume']\n",
    "    return_df[pri_col_name] = return_df['Price']\n",
    "    #return_df = return_df.set_index('Index')\n",
    "\n",
    "    result = df.merge(return_df,how='right')\n",
    "    result = result.set_index('Index')\n",
    "    \n",
    "    return result    "
   ]
  },
  {
   "cell_type": "code",
   "execution_count": null,
   "metadata": {},
   "outputs": [],
   "source": [
    "def init_df():\n",
    "    columns_list = ['Index', 'Name', 'Rank', 'Market_Cap', 'Price', 'Daily_Perf', 'Volume']\n",
    "    return_df = pd.DataFrame(columns=columns_list)\n",
    "    \n",
    "    for x in range (1,5): # change if you want to get more or less then 1000 results, steps in 250\n",
    "        # get data\n",
    "        raw_data = requests.get('https://api.coingecko.com/api/v3/coins/markets?vs_currency=btc&order=market_cap_desc&per_page=250&page={0}&sparkline=false&price_change_percentage=1h%2C24h%2C7d'.format(x))\n",
    "        json_data = json.loads(raw_data.content)\n",
    "        df_data = pd.DataFrame(json_data)\n",
    "        return_df.loc['Index'] = return_df['Index'].append(df_data['symbol'])\n",
    "        \n",
    "    return_df = return_df.set_index('Index')\n",
    "\n",
    "    return return_df"
   ]
  },
  {
   "cell_type": "code",
   "execution_count": null,
   "metadata": {},
   "outputs": [],
   "source": [
    "def start():\n",
    "    df = init_df()\n",
    "    a = get_all(df)\n",
    "\n",
    "    while True:\n",
    "        print('Updating DataFrame...')\n",
    "        a = get_all(a)\n",
    "        print(a)\n",
    "        time.sleep(600)\n",
    "        print('10 min into new loop')\n",
    "        time.sleep(600)\n",
    "        print('20 min into new loop')\n",
    "        time.sleep(600)\n",
    "        print('30 min into new loop')\n",
    "        time.sleep(600)\n",
    "        print('40 min into new loop')\n",
    "        time.sleep(600)\n",
    "        print('50 min into new loop')\n",
    "        time.sleep(600)"
   ]
  },
  {
   "cell_type": "code",
   "execution_count": null,
   "metadata": {},
   "outputs": [],
   "source": [
    "# Run this to print an updated DataFrame every hour \n",
    "start()"
   ]
  },
  {
   "cell_type": "code",
   "execution_count": null,
   "metadata": {},
   "outputs": [],
   "source": [
    "b = loop(df)\n",
    "b"
   ]
  }
 ],
 "metadata": {
  "kernelspec": {
   "display_name": "Python 3",
   "language": "python",
   "name": "python3"
  },
  "language_info": {
   "codemirror_mode": {
    "name": "ipython",
    "version": 3
   },
   "file_extension": ".py",
   "mimetype": "text/x-python",
   "name": "python",
   "nbconvert_exporter": "python",
   "pygments_lexer": "ipython3",
   "version": "3.8.1"
  }
 },
 "nbformat": 4,
 "nbformat_minor": 4
}
